{
 "cells": [
  {
   "cell_type": "code",
   "execution_count": 1,
   "metadata": {},
   "outputs": [],
   "source": [
    "#!pip install numpy\n",
    "#!pip install -q mediapipe\n",
    "#!pip install wget\n",
    "#!pip install opencv-python"
   ]
  },
  {
   "cell_type": "code",
   "execution_count": 2,
   "metadata": {},
   "outputs": [],
   "source": [
    "import numpy as np\n",
    "import cv2 as cv\n",
    "from mediapipe import solutions\n",
    "from mediapipe.framework.formats import landmark_pb2"
   ]
  },
  {
   "cell_type": "code",
   "execution_count": 3,
   "metadata": {},
   "outputs": [
    {
     "data": {
      "text/plain": [
       "'hand_landmarker (1).task'"
      ]
     },
     "execution_count": 3,
     "metadata": {},
     "output_type": "execute_result"
    }
   ],
   "source": [
    "import wget\n",
    "wget.download('https://storage.googleapis.com/mediapipe-models/hand_landmarker/hand_landmarker/float16/1/hand_landmarker.task')"
   ]
  },
  {
   "cell_type": "markdown",
   "metadata": {},
   "source": [
    "即時手部偵測"
   ]
  },
  {
   "cell_type": "code",
   "execution_count": 7,
   "metadata": {},
   "outputs": [],
   "source": [
    "import cv2\n",
    "import mediapipe as mp\n",
    "from mediapipe.tasks import python\n",
    "from mediapipe.tasks.python import vision\n",
    "\n",
    "# 指定模型路徑\n",
    "model_path = r\"C:\\Users\\User\\yolo_yo\\predict\\hand_landmarker.task\"\n",
    "base_options = python.BaseOptions(model_asset_path=model_path)\n",
    "options = vision.HandLandmarkerOptions(base_options=base_options, num_hands=2)\n",
    "detector = vision.HandLandmarker.create_from_options(options)\n",
    "\n",
    "cap = cv2.VideoCapture(0)\n",
    "\n",
    "# 設定新影片尺寸\n",
    "new_width = 750\n",
    "new_height = 480\n",
    "\n",
    "def draw_landmarks_on_image(image, detection_result, thickness=3):\n",
    "    \"\"\"在影像上繪製手部關鍵點與連線\"\"\"\n",
    "    annotated_image = image.copy()\n",
    "    \n",
    "    if detection_result.hand_landmarks:\n",
    "        for landmarks in detection_result.hand_landmarks:\n",
    "            # 繪製關鍵點\n",
    "            for landmark in landmarks:\n",
    "                x, y = int(landmark.x * image.shape[1]), int(landmark.y * image.shape[0])\n",
    "                cv2.circle(annotated_image, (x, y), radius=7, color=(255, 0, 0), thickness=-1)  # 紅色點\n",
    "\n",
    "            # 繪製關鍵點間的線條\n",
    "            connections = mp.solutions.hands.HAND_CONNECTIONS\n",
    "            for connection in connections:\n",
    "                start_idx, end_idx = connection\n",
    "                start_point = (int(landmarks[start_idx].x * image.shape[1]), int(landmarks[start_idx].y * image.shape[0]))\n",
    "                end_point = (int(landmarks[end_idx].x * image.shape[1]), int(landmarks[end_idx].y * image.shape[0]))\n",
    "                cv2.line(annotated_image, start_point, end_point, (0, 255, 0), thickness)  # 綠色線條\n",
    "    return annotated_image\n",
    "\n",
    "\n",
    "# 讀取影片並進行手部偵測\n",
    "while cap.isOpened():\n",
    "    ret, frame = cap.read()\n",
    "    if not ret:\n",
    "        break  # 影片結束則跳出迴圈\n",
    "\n",
    "    # 調整影片大小\n",
    "    frame = cv2.resize(frame, (new_width, new_height))\n",
    "\n",
    "    # 轉換 OpenCV 的 BGR 影像為 RGB\n",
    "    frame_rgb = cv2.cvtColor(frame, cv2.COLOR_BGR2RGB)\n",
    "    mp_image = mp.Image(image_format=mp.ImageFormat.SRGB, data=frame_rgb)\n",
    "\n",
    "    # 偵測手部關鍵點\n",
    "    detection_result = detector.detect(mp_image)\n",
    "\n",
    "    # 繪製關鍵點\n",
    "    annotated_frame = draw_landmarks_on_image(frame, detection_result)\n",
    "\n",
    "    # 顯示影像\n",
    "    cv2.imshow(\"Hand Landmark Detection\", annotated_frame)\n",
    "\n",
    "    if cv2.waitKey(30) & 0xFF == ord(' '):\n",
    "        break\n",
    "\n",
    "# 釋放資源\n",
    "cap.release()\n",
    "cv2.destroyAllWindows()"
   ]
  }
 ],
 "metadata": {
  "kernelspec": {
   "display_name": "412770538",
   "language": "python",
   "name": "python3"
  },
  "language_info": {
   "codemirror_mode": {
    "name": "ipython",
    "version": 3
   },
   "file_extension": ".py",
   "mimetype": "text/x-python",
   "name": "python",
   "nbconvert_exporter": "python",
   "pygments_lexer": "ipython3",
   "version": "3.12.9"
  }
 },
 "nbformat": 4,
 "nbformat_minor": 4
}
